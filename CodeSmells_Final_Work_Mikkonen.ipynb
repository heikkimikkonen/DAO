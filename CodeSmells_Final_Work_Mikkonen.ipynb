{
  "nbformat": 4,
  "nbformat_minor": 0,
  "metadata": {
    "colab": {
      "provenance": [],
      "authorship_tag": "ABX9TyMGl5psnHvWRlxOv23K0/vp",
      "include_colab_link": true
    },
    "kernelspec": {
      "name": "python3",
      "display_name": "Python 3"
    },
    "language_info": {
      "name": "python"
    }
  },
  "cells": [
    {
      "cell_type": "markdown",
      "metadata": {
        "id": "view-in-github",
        "colab_type": "text"
      },
      "source": [
        "<a href=\"https://colab.research.google.com/github/heikkimikkonen/DAO/blob/main/CodeSmells_Final_Work_Mikkonen.ipynb\" target=\"_parent\"><img src=\"https://colab.research.google.com/assets/colab-badge.svg\" alt=\"Open In Colab\"/></a>"
      ]
    },
    {
      "cell_type": "code",
      "execution_count": null,
      "metadata": {
        "colab": {
          "base_uri": "https://localhost:8080/"
        },
        "id": "gogxmc7TuKZu",
        "outputId": "9bd356bb-6c48-4e72-effd-149ab3e2161b"
      },
      "outputs": [
        {
          "metadata": {
            "tags": null
          },
          "name": "stdout",
          "output_type": "stream",
          "text": [
            "Collecting pylint\n",
            "  Downloading pylint-3.3.1-py3-none-any.whl.metadata (12 kB)\n",
            "Requirement already satisfied: platformdirs>=2.2.0 in /usr/local/lib/python3.10/dist-packages (from pylint) (4.3.6)\n",
            "Collecting astroid<=3.4.0-dev0,>=3.3.4 (from pylint)\n",
            "  Downloading astroid-3.3.5-py3-none-any.whl.metadata (4.5 kB)\n",
            "Collecting isort!=5.13.0,<6,>=4.2.5 (from pylint)\n",
            "  Downloading isort-5.13.2-py3-none-any.whl.metadata (12 kB)\n",
            "Collecting mccabe<0.8,>=0.6 (from pylint)\n",
            "  Downloading mccabe-0.7.0-py2.py3-none-any.whl.metadata (5.0 kB)\n",
            "Collecting tomlkit>=0.10.1 (from pylint)\n",
            "  Downloading tomlkit-0.13.2-py3-none-any.whl.metadata (2.7 kB)\n",
            "Collecting dill>=0.2 (from pylint)\n",
            "  Downloading dill-0.3.9-py3-none-any.whl.metadata (10 kB)\n",
            "Requirement already satisfied: tomli>=1.1.0 in /usr/local/lib/python3.10/dist-packages (from pylint) (2.0.2)\n",
            "Requirement already satisfied: typing-extensions>=4.0.0 in /usr/local/lib/python3.10/dist-packages (from astroid<=3.4.0-dev0,>=3.3.4->pylint) (4.12.2)\n",
            "Downloading pylint-3.3.1-py3-none-any.whl (521 kB)\n",
            "\u001b[2K   \u001b[90m━━━━━━━━━━━━━━━━━━━━━━━━━━━━━━━━━━━━━━━━\u001b[0m \u001b[32m521.8/521.8 kB\u001b[0m \u001b[31m8.1 MB/s\u001b[0m eta \u001b[36m0:00:00\u001b[0m\n",
            "\u001b[?25hDownloading astroid-3.3.5-py3-none-any.whl (274 kB)\n",
            "\u001b[2K   \u001b[90m━━━━━━━━━━━━━━━━━━━━━━━━━━━━━━━━━━━━━━━━\u001b[0m \u001b[32m274.6/274.6 kB\u001b[0m \u001b[31m18.1 MB/s\u001b[0m eta \u001b[36m0:00:00\u001b[0m\n",
            "\u001b[?25hDownloading dill-0.3.9-py3-none-any.whl (119 kB)\n",
            "\u001b[2K   \u001b[90m━━━━━━━━━━━━━━━━━━━━━━━━━━━━━━━━━━━━━━━━\u001b[0m \u001b[32m119.4/119.4 kB\u001b[0m \u001b[31m9.6 MB/s\u001b[0m eta \u001b[36m0:00:00\u001b[0m\n",
            "\u001b[?25hDownloading isort-5.13.2-py3-none-any.whl (92 kB)\n",
            "\u001b[2K   \u001b[90m━━━━━━━━━━━━━━━━━━━━━━━━━━━━━━━━━━━━━━━━\u001b[0m \u001b[32m92.3/92.3 kB\u001b[0m \u001b[31m8.8 MB/s\u001b[0m eta \u001b[36m0:00:00\u001b[0m\n",
            "\u001b[?25hDownloading mccabe-0.7.0-py2.py3-none-any.whl (7.3 kB)\n",
            "Downloading tomlkit-0.13.2-py3-none-any.whl (37 kB)\n",
            "Installing collected packages: tomlkit, mccabe, isort, dill, astroid, pylint\n",
            "Successfully installed astroid-3.3.5 dill-0.3.9 isort-5.13.2 mccabe-0.7.0 pylint-3.3.1 tomlkit-0.13.2\n"
          ]
        }
      ],
      "source": [
        "!pip install pylint\n",
        "\n",
        "import pandas as pd\n",
        "import io\n",
        "import sys\n",
        "\n",
        "fn = '/content/Final_Work_Mikkonen.ipynb'\n",
        "\n",
        "# Capture pylint output\n",
        "original_stdout = sys.stdout\n",
        "sys.stdout = io.StringIO()\n",
        "\n",
        "!pylint {fn}\n",
        "\n",
        "pylint_output = sys.stdout.getvalue()\n",
        "sys.stdout = original_stdout\n",
        "\n",
        "# Parse pylint output and create a list of dictionaries\n",
        "results = []\n",
        "for line in pylint_output.splitlines():\n",
        "    if ':' in line and 'Your code has been rated at' not in line:\n",
        "        parts = line.split(':', 3)  #changed to maxsplit of 3\n",
        "        if len(parts) >= 4:\n",
        "            file_name = parts[0].strip()\n",
        "            line_number = parts[1].strip()\n",
        "            message_type = parts[2].strip()\n",
        "            message = parts[3].strip()\n",
        "\n",
        "            results.append({\n",
        "                'File': file_name,\n",
        "                'Line': line_number,\n",
        "                'Type': message_type,\n",
        "                'Message': message\n",
        "            })\n",
        "\n",
        "# Convert the list of dictionaries to a pandas DataFrame\n",
        "df_lint = pd.DataFrame(results)\n",
        "\n"
      ]
    },
    {
      "cell_type": "code",
      "source": [
        "print(df_lint)\n",
        "\n",
        "with pd.ExcelWriter('Final_work_Mikkonen.xlsx', mode ='a', engine='openpyxl') as writer:\n",
        "    df_lint.to_excel(writer, sheet_name='CodeSmells')"
      ],
      "metadata": {
        "colab": {
          "base_uri": "https://localhost:8080/"
        },
        "id": "U2h64ewzqsn2",
        "outputId": "a97d2931-bd69-441c-b192-b1b0850ac55f"
      },
      "execution_count": null,
      "outputs": [
        {
          "output_type": "stream",
          "name": "stdout",
          "text": [
            "                           File   Line Type  \\\n",
            "0     Final_Work_Mikkonen.ipynb     55   29   \n",
            "1     Final_Work_Mikkonen.ipynb    100   29   \n",
            "2     Final_Work_Mikkonen.ipynb    397   29   \n",
            "3     Final_Work_Mikkonen.ipynb    442   29   \n",
            "4     Final_Work_Mikkonen.ipynb    739   29   \n",
            "...                         ...    ...  ...   \n",
            "4092  Final_Work_Mikkonen.ipynb  16884   25   \n",
            "4093  Final_Work_Mikkonen.ipynb  16977   25   \n",
            "4094  Final_Work_Mikkonen.ipynb  17045   25   \n",
            "4095  Final_Work_Mikkonen.ipynb  17154   25   \n",
            "4096  Final_Work_Mikkonen.ipynb  17743   25   \n",
            "\n",
            "                                                Message  \n",
            "0     E2515: Invalid unescaped character zero-width-...  \n",
            "1     E2515: Invalid unescaped character zero-width-...  \n",
            "2     E2515: Invalid unescaped character zero-width-...  \n",
            "3     E2515: Invalid unescaped character zero-width-...  \n",
            "4     E2515: Invalid unescaped character zero-width-...  \n",
            "...                                                 ...  \n",
            "4092  E0602: Undefined variable 'null' (undefined-va...  \n",
            "4093  E0602: Undefined variable 'null' (undefined-va...  \n",
            "4094  E0602: Undefined variable 'null' (undefined-va...  \n",
            "4095  E0602: Undefined variable 'null' (undefined-va...  \n",
            "4096  E0602: Undefined variable 'null' (undefined-va...  \n",
            "\n",
            "[4097 rows x 4 columns]\n"
          ]
        }
      ]
    },
    {
      "cell_type": "code",
      "source": [
        "import pandas as pd\n",
        "import io\n",
        "import sys\n",
        "import re\n",
        "\n",
        "def install_pylint():\n",
        "  try:\n",
        "    import pylint\n",
        "    print(\"pylint is already installed.\")\n",
        "  except ImportError:\n",
        "    !pip install pylint\n",
        "    print(\"pylint installed successfully.\")\n",
        "\n",
        "def analyze_code_smells(fn):\n",
        "  install_pylint()\n",
        "\n",
        "  # Capture pylint output\n",
        "  original_stdout = sys.stdout\n",
        "  sys.stdout = io.StringIO()\n",
        "\n",
        "  !pylint {fn}\n",
        "\n",
        "  pylint_output = sys.stdout.getvalue()\n",
        "  sys.stdout = original_stdout\n",
        "\n",
        "  # Parse pylint output using regular expressions\n",
        "  pattern = r\"(.*?):(\\d+):\\s+(\\w+)\\s+(.+)\"\n",
        "  results = []\n",
        "  for line in pylint_output.splitlines():\n",
        "    match = re.match(pattern, line)\n",
        "    if match:\n",
        "      file_name, line_number, message_type, message = match.groups()\n",
        "      results.append({\n",
        "          'File': file_name,\n",
        "          'Line': line_number,\n",
        "          'Type': message_type,\n",
        "          'Message': message\n",
        "      })\n",
        "\n",
        "  # Convert the list of dictionaries to a pandas DataFrame\n",
        "  df_lint = pd.DataFrame(results)\n",
        "\n",
        "  # Add more columns to the DataFrame if needed\n",
        "  df_lint['Severity'] = df_lint['Type'].apply(lambda x: 'High' if x == 'error' else 'Medium' if x == 'warning' else 'Low')\n",
        "\n",
        "  return df_lint\n",
        "\n",
        "# Example usage\n",
        "fn = '/content/Final_work_Mikkonen.ipynb'\n",
        "df_lint = analyze_code_smells(fn)\n",
        "print(df_lint)"
      ],
      "metadata": {
        "id": "VqKOSfXLztdt",
        "colab": {
          "base_uri": "https://localhost:8080/",
          "height": 356
        },
        "outputId": "28e09cf1-4685-41f7-b815-d8756875340c"
      },
      "execution_count": null,
      "outputs": [
        {
          "output_type": "stream",
          "name": "stdout",
          "text": [
            "pylint is already installed.\n"
          ]
        },
        {
          "output_type": "error",
          "ename": "KeyError",
          "evalue": "'Type'",
          "traceback": [
            "\u001b[0;31m---------------------------------------------------------------------------\u001b[0m",
            "\u001b[0;31mKeyError\u001b[0m                                  Traceback (most recent call last)",
            "\u001b[0;32m<ipython-input-2-c687ebdfbd65>\u001b[0m in \u001b[0;36m<cell line: 50>\u001b[0;34m()\u001b[0m\n\u001b[1;32m     48\u001b[0m \u001b[0;31m# Example usage\u001b[0m\u001b[0;34m\u001b[0m\u001b[0;34m\u001b[0m\u001b[0m\n\u001b[1;32m     49\u001b[0m \u001b[0mfn\u001b[0m \u001b[0;34m=\u001b[0m \u001b[0;34m'/content/Final_work_Mikkonen.ipynb'\u001b[0m\u001b[0;34m\u001b[0m\u001b[0;34m\u001b[0m\u001b[0m\n\u001b[0;32m---> 50\u001b[0;31m \u001b[0mdf_lint\u001b[0m \u001b[0;34m=\u001b[0m \u001b[0manalyze_code_smells\u001b[0m\u001b[0;34m(\u001b[0m\u001b[0mfn\u001b[0m\u001b[0;34m)\u001b[0m\u001b[0;34m\u001b[0m\u001b[0;34m\u001b[0m\u001b[0m\n\u001b[0m\u001b[1;32m     51\u001b[0m \u001b[0mprint\u001b[0m\u001b[0;34m(\u001b[0m\u001b[0mdf_lint\u001b[0m\u001b[0;34m)\u001b[0m\u001b[0;34m\u001b[0m\u001b[0;34m\u001b[0m\u001b[0m\n",
            "\u001b[0;32m<ipython-input-2-c687ebdfbd65>\u001b[0m in \u001b[0;36manalyze_code_smells\u001b[0;34m(fn)\u001b[0m\n\u001b[1;32m     42\u001b[0m \u001b[0;34m\u001b[0m\u001b[0m\n\u001b[1;32m     43\u001b[0m   \u001b[0;31m# Add more columns to the DataFrame if needed\u001b[0m\u001b[0;34m\u001b[0m\u001b[0;34m\u001b[0m\u001b[0m\n\u001b[0;32m---> 44\u001b[0;31m   \u001b[0mdf_lint\u001b[0m\u001b[0;34m[\u001b[0m\u001b[0;34m'Severity'\u001b[0m\u001b[0;34m]\u001b[0m \u001b[0;34m=\u001b[0m \u001b[0mdf_lint\u001b[0m\u001b[0;34m[\u001b[0m\u001b[0;34m'Type'\u001b[0m\u001b[0;34m]\u001b[0m\u001b[0;34m.\u001b[0m\u001b[0mapply\u001b[0m\u001b[0;34m(\u001b[0m\u001b[0;32mlambda\u001b[0m \u001b[0mx\u001b[0m\u001b[0;34m:\u001b[0m \u001b[0;34m'High'\u001b[0m \u001b[0;32mif\u001b[0m \u001b[0mx\u001b[0m \u001b[0;34m==\u001b[0m \u001b[0;34m'error'\u001b[0m \u001b[0;32melse\u001b[0m \u001b[0;34m'Medium'\u001b[0m \u001b[0;32mif\u001b[0m \u001b[0mx\u001b[0m \u001b[0;34m==\u001b[0m \u001b[0;34m'warning'\u001b[0m \u001b[0;32melse\u001b[0m \u001b[0;34m'Low'\u001b[0m\u001b[0;34m)\u001b[0m\u001b[0;34m\u001b[0m\u001b[0;34m\u001b[0m\u001b[0m\n\u001b[0m\u001b[1;32m     45\u001b[0m \u001b[0;34m\u001b[0m\u001b[0m\n\u001b[1;32m     46\u001b[0m   \u001b[0;32mreturn\u001b[0m \u001b[0mdf_lint\u001b[0m\u001b[0;34m\u001b[0m\u001b[0;34m\u001b[0m\u001b[0m\n",
            "\u001b[0;32m/usr/local/lib/python3.10/dist-packages/pandas/core/frame.py\u001b[0m in \u001b[0;36m__getitem__\u001b[0;34m(self, key)\u001b[0m\n\u001b[1;32m   4100\u001b[0m             \u001b[0;32mif\u001b[0m \u001b[0mself\u001b[0m\u001b[0;34m.\u001b[0m\u001b[0mcolumns\u001b[0m\u001b[0;34m.\u001b[0m\u001b[0mnlevels\u001b[0m \u001b[0;34m>\u001b[0m \u001b[0;36m1\u001b[0m\u001b[0;34m:\u001b[0m\u001b[0;34m\u001b[0m\u001b[0;34m\u001b[0m\u001b[0m\n\u001b[1;32m   4101\u001b[0m                 \u001b[0;32mreturn\u001b[0m \u001b[0mself\u001b[0m\u001b[0;34m.\u001b[0m\u001b[0m_getitem_multilevel\u001b[0m\u001b[0;34m(\u001b[0m\u001b[0mkey\u001b[0m\u001b[0;34m)\u001b[0m\u001b[0;34m\u001b[0m\u001b[0;34m\u001b[0m\u001b[0m\n\u001b[0;32m-> 4102\u001b[0;31m             \u001b[0mindexer\u001b[0m \u001b[0;34m=\u001b[0m \u001b[0mself\u001b[0m\u001b[0;34m.\u001b[0m\u001b[0mcolumns\u001b[0m\u001b[0;34m.\u001b[0m\u001b[0mget_loc\u001b[0m\u001b[0;34m(\u001b[0m\u001b[0mkey\u001b[0m\u001b[0;34m)\u001b[0m\u001b[0;34m\u001b[0m\u001b[0;34m\u001b[0m\u001b[0m\n\u001b[0m\u001b[1;32m   4103\u001b[0m             \u001b[0;32mif\u001b[0m \u001b[0mis_integer\u001b[0m\u001b[0;34m(\u001b[0m\u001b[0mindexer\u001b[0m\u001b[0;34m)\u001b[0m\u001b[0;34m:\u001b[0m\u001b[0;34m\u001b[0m\u001b[0;34m\u001b[0m\u001b[0m\n\u001b[1;32m   4104\u001b[0m                 \u001b[0mindexer\u001b[0m \u001b[0;34m=\u001b[0m \u001b[0;34m[\u001b[0m\u001b[0mindexer\u001b[0m\u001b[0;34m]\u001b[0m\u001b[0;34m\u001b[0m\u001b[0;34m\u001b[0m\u001b[0m\n",
            "\u001b[0;32m/usr/local/lib/python3.10/dist-packages/pandas/core/indexes/range.py\u001b[0m in \u001b[0;36mget_loc\u001b[0;34m(self, key)\u001b[0m\n\u001b[1;32m    415\u001b[0m                 \u001b[0;32mraise\u001b[0m \u001b[0mKeyError\u001b[0m\u001b[0;34m(\u001b[0m\u001b[0mkey\u001b[0m\u001b[0;34m)\u001b[0m \u001b[0;32mfrom\u001b[0m \u001b[0merr\u001b[0m\u001b[0;34m\u001b[0m\u001b[0;34m\u001b[0m\u001b[0m\n\u001b[1;32m    416\u001b[0m         \u001b[0;32mif\u001b[0m \u001b[0misinstance\u001b[0m\u001b[0;34m(\u001b[0m\u001b[0mkey\u001b[0m\u001b[0;34m,\u001b[0m \u001b[0mHashable\u001b[0m\u001b[0;34m)\u001b[0m\u001b[0;34m:\u001b[0m\u001b[0;34m\u001b[0m\u001b[0;34m\u001b[0m\u001b[0m\n\u001b[0;32m--> 417\u001b[0;31m             \u001b[0;32mraise\u001b[0m \u001b[0mKeyError\u001b[0m\u001b[0;34m(\u001b[0m\u001b[0mkey\u001b[0m\u001b[0;34m)\u001b[0m\u001b[0;34m\u001b[0m\u001b[0;34m\u001b[0m\u001b[0m\n\u001b[0m\u001b[1;32m    418\u001b[0m         \u001b[0mself\u001b[0m\u001b[0;34m.\u001b[0m\u001b[0m_check_indexing_error\u001b[0m\u001b[0;34m(\u001b[0m\u001b[0mkey\u001b[0m\u001b[0;34m)\u001b[0m\u001b[0;34m\u001b[0m\u001b[0;34m\u001b[0m\u001b[0m\n\u001b[1;32m    419\u001b[0m         \u001b[0;32mraise\u001b[0m \u001b[0mKeyError\u001b[0m\u001b[0;34m(\u001b[0m\u001b[0mkey\u001b[0m\u001b[0;34m)\u001b[0m\u001b[0;34m\u001b[0m\u001b[0;34m\u001b[0m\u001b[0m\n",
            "\u001b[0;31mKeyError\u001b[0m: 'Type'"
          ]
        }
      ]
    }
  ]
}