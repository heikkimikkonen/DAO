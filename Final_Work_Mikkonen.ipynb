{
  "nbformat": 4,
  "nbformat_minor": 0,
  "metadata": {
    "colab": {
      "provenance": [],
      "authorship_tag": "ABX9TyNJphDrJhpkzXxaYLBccCwQ",
      "include_colab_link": true
    },
    "kernelspec": {
      "name": "python3",
      "display_name": "Python 3"
    },
    "language_info": {
      "name": "python"
    }
  },
  "cells": [
    {
      "cell_type": "markdown",
      "metadata": {
        "id": "view-in-github",
        "colab_type": "text"
      },
      "source": [
        "<a href=\"https://colab.research.google.com/github/heikkimikkonen/DAO/blob/main/Final_Work_Mikkonen.ipynb\" target=\"_parent\"><img src=\"https://colab.research.google.com/assets/colab-badge.svg\" alt=\"Open In Colab\"/></a>"
      ]
    },
    {
      "cell_type": "code",
      "execution_count": 3,
      "metadata": {
        "colab": {
          "base_uri": "https://localhost:8080/"
        },
        "id": "nyRpssosPNEG",
        "outputId": "04141362-9ab7-4995-9b19-dda130f61251"
      },
      "outputs": [
        {
          "output_type": "stream",
          "name": "stdout",
          "text": [
            "Collecting faker\n",
            "  Downloading Faker-30.3.0-py3-none-any.whl.metadata (15 kB)\n",
            "Requirement already satisfied: python-dateutil>=2.4 in /usr/local/lib/python3.10/dist-packages (from faker) (2.8.2)\n",
            "Requirement already satisfied: typing-extensions in /usr/local/lib/python3.10/dist-packages (from faker) (4.12.2)\n",
            "Requirement already satisfied: six>=1.5 in /usr/local/lib/python3.10/dist-packages (from python-dateutil>=2.4->faker) (1.16.0)\n",
            "Downloading Faker-30.3.0-py3-none-any.whl (1.8 MB)\n",
            "\u001b[?25l   \u001b[90m━━━━━━━━━━━━━━━━━━━━━━━━━━━━━━━━━━━━━━━━\u001b[0m \u001b[32m0.0/1.8 MB\u001b[0m \u001b[31m?\u001b[0m eta \u001b[36m-:--:--\u001b[0m\r\u001b[2K   \u001b[91m━━━━━━━━━━\u001b[0m\u001b[90m╺\u001b[0m\u001b[90m━━━━━━━━━━━━━━━━━━━━━━━━━━━━━\u001b[0m \u001b[32m0.5/1.8 MB\u001b[0m \u001b[31m14.3 MB/s\u001b[0m eta \u001b[36m0:00:01\u001b[0m\r\u001b[2K   \u001b[90m━━━━━━━━━━━━━━━━━━━━━━━━━━━━━━━━━━━━━━━━\u001b[0m \u001b[32m1.8/1.8 MB\u001b[0m \u001b[31m26.4 MB/s\u001b[0m eta \u001b[36m0:00:00\u001b[0m\n",
            "\u001b[?25hInstalling collected packages: faker\n",
            "Successfully installed faker-30.3.0\n"
          ]
        }
      ],
      "source": [
        "!pip install faker"
      ]
    },
    {
      "cell_type": "code",
      "source": [
        "from faker import Faker\n",
        "import pandas as pd\n",
        "import random\n",
        "from datetime import datetime\n",
        "\n",
        "# Initialize Faker\n",
        "fake = Faker()\n",
        "\n",
        "# List of car models\n",
        "car_models = ['Model S', 'Model 3', 'Model X', 'Model Y', 'Cybertruck']\n",
        "\n",
        "# Create empty list to hold data\n",
        "data = []\n",
        "\n",
        "# Function to generate net revenue\n",
        "def generate_net_revenue():\n",
        "    if random.random() < 0.05:  # 5% chance of being an outlier\n",
        "        return random.randint(10000, 50000)\n",
        "    else:\n",
        "        return random.randint(100, 10000)\n",
        "\n",
        "# Generate data\n",
        "for _ in range(100):\n",
        "    name = fake.name()\n",
        "    city = fake.city()\n",
        "    country = fake.country()\n",
        "    sex = random.choice(['Male', 'Female'])\n",
        "    age = random.randint(18, 80)\n",
        "\n",
        "    num_products = random.randint(1, len(car_models))\n",
        "    products_reviewed = random.sample(car_models, num_products)\n",
        "\n",
        "    for product in products_reviewed:\n",
        "        feedback = fake.text(max_nb_chars=200)\n",
        "        net_revenue = generate_net_revenue()\n",
        "        date = fake.date_this_decade(before_today=True, after_today=False)\n",
        "\n",
        "        data.append({\n",
        "            'Name': name,\n",
        "            'City': city,\n",
        "            'Country': country,\n",
        "            'Sex': sex,\n",
        "            'Age': age,\n",
        "            'Product': product,\n",
        "            'Feedback': feedback,\n",
        "            'NetRevenue': net_revenue,\n",
        "            'Date': date\n",
        "        })\n",
        "\n",
        "# Create DataFrame\n",
        "df = pd.DataFrame(data)\n",
        "\n",
        "# Save to Excel\n",
        "df.to_excel('feedback_with_random_products.xlsx', index=False)\n",
        "\n",
        "print('Data generated and saved to feedback_with_random_products.xlsx')\n"
      ],
      "metadata": {
        "colab": {
          "base_uri": "https://localhost:8080/"
        },
        "id": "42Ey4n6lQ1lu",
        "outputId": "2ce78165-2a56-4be0-fd82-6b85d7f3810b"
      },
      "execution_count": 4,
      "outputs": [
        {
          "output_type": "stream",
          "name": "stdout",
          "text": [
            "Data generated and saved to feedback_with_random_products.xlsx\n"
          ]
        }
      ]
    },
    {
      "cell_type": "code",
      "source": [
        "from google.colab import drive\n",
        "drive.mount('/content/drive')"
      ],
      "metadata": {
        "id": "iJl_Pi-E1owU"
      },
      "execution_count": null,
      "outputs": []
    },
    {
      "cell_type": "code",
      "source": [
        "import pandas as pd\n",
        "\n",
        "df = pd.read_excel('/content/feedback_with_random_products.xlsx')\n",
        "print(df.head())\n"
      ],
      "metadata": {
        "colab": {
          "base_uri": "https://localhost:8080/"
        },
        "id": "fKEk1Yx00-ZN",
        "outputId": "aa470d2e-f548-49e0-c088-762bda651ae1"
      },
      "execution_count": 6,
      "outputs": [
        {
          "output_type": "stream",
          "name": "stdout",
          "text": [
            "              Name            City                        Country   Sex  Age  \\\n",
            "0  Patrick Johnson  Williamchester                        Senegal  Male   52   \n",
            "1  Patrick Johnson  Williamchester                        Senegal  Male   52   \n",
            "2   Monica Salinas     Robertsberg  Holy See (Vatican City State)  Male   43   \n",
            "3   Monica Salinas     Robertsberg  Holy See (Vatican City State)  Male   43   \n",
            "4    Steven Barnes      Murphystad           United Arab Emirates  Male   19   \n",
            "\n",
            "      Product                                           Feedback  NetRevenue  \\\n",
            "0     Model Y  Eight whether change detail whom happen. Natio...        9658   \n",
            "1     Model X  Instead education natural each particularly. P...        3849   \n",
            "2  Cybertruck  Try economic service while. Production station...        8533   \n",
            "3     Model S  Dream pass large one avoid offer. Focus boy fr...         876   \n",
            "4     Model 3  By buy month machine need of. Other rest every...        2358   \n",
            "\n",
            "        Date  \n",
            "0 2022-10-05  \n",
            "1 2020-08-31  \n",
            "2 2021-02-15  \n",
            "3 2020-12-28  \n",
            "4 2021-12-24  \n"
          ]
        }
      ]
    },
    {
      "cell_type": "code",
      "source": [
        "print(df.describe(include='all'))"
      ],
      "metadata": {
        "colab": {
          "base_uri": "https://localhost:8080/"
        },
        "id": "gpcbFQn02I0k",
        "outputId": "a77da325-249a-46d4-d495-4bf488c194bc"
      },
      "execution_count": 7,
      "outputs": [
        {
          "output_type": "stream",
          "name": "stdout",
          "text": [
            "                    Name       City Country     Sex         Age  Product  \\\n",
            "count                327        327     327     327  327.000000      327   \n",
            "unique               100         99      81       2         NaN        5   \n",
            "top     Jessica Chandler  East Sean  Taiwan  Female         NaN  Model X   \n",
            "freq                   5          5      10     165         NaN       72   \n",
            "mean                 NaN        NaN     NaN     NaN   48.522936      NaN   \n",
            "min                  NaN        NaN     NaN     NaN   18.000000      NaN   \n",
            "25%                  NaN        NaN     NaN     NaN   31.000000      NaN   \n",
            "50%                  NaN        NaN     NaN     NaN   48.000000      NaN   \n",
            "75%                  NaN        NaN     NaN     NaN   66.500000      NaN   \n",
            "max                  NaN        NaN     NaN     NaN   80.000000      NaN   \n",
            "std                  NaN        NaN     NaN     NaN   19.369160      NaN   \n",
            "\n",
            "                                                 Feedback    NetRevenue  \\\n",
            "count                                                 327    327.000000   \n",
            "unique                                                327           NaN   \n",
            "top     Eight whether change detail whom happen. Natio...           NaN   \n",
            "freq                                                    1           NaN   \n",
            "mean                                                  NaN   6591.027523   \n",
            "min                                                   NaN    125.000000   \n",
            "25%                                                   NaN   2923.500000   \n",
            "50%                                                   NaN   5392.000000   \n",
            "75%                                                   NaN   7804.500000   \n",
            "max                                                   NaN  50000.000000   \n",
            "std                                                   NaN   7224.196353   \n",
            "\n",
            "                                 Date  \n",
            "count                             327  \n",
            "unique                            NaN  \n",
            "top                               NaN  \n",
            "freq                              NaN  \n",
            "mean    2022-06-19 01:01:39.082568704  \n",
            "min               2020-01-02 00:00:00  \n",
            "25%               2021-04-10 12:00:00  \n",
            "50%               2022-05-13 00:00:00  \n",
            "75%               2023-09-21 12:00:00  \n",
            "max               2024-10-08 00:00:00  \n",
            "std                               NaN  \n"
          ]
        }
      ]
    }
  ]
}